{
 "cells": [
  {
   "cell_type": "code",
   "execution_count": 43,
   "metadata": {},
   "outputs": [],
   "source": [
    "import math"
   ]
  },
  {
   "cell_type": "code",
   "execution_count": 44,
   "metadata": {},
   "outputs": [
    {
     "name": "stdout",
     "output_type": "stream",
     "text": [
      "[1, 2, 3, 4, 5, 6, 7, 8, 9, 10, 11, 12, 13, 14, 15, 16, 17, 18, 19, 20]\n",
      "[20, 19, 18, 17, 16, 15, 14, 13, 12, 11, 10, 9, 8, 7, 6, 5, 4, 3, 2, 1]\n",
      "[1, 2, 3, 4, 5, 6, 7, 8, 9, 10, 11, 12, 13, 14, 15, 16, 17, 18, 19, 20, 19, 18, 17, 16, 15, 14, 13, 12, 11, 10, 9, 8, 7, 6, 5, 4, 3, 2, 1]\n",
      "[4, 6, 3, 4, 6, 3, 4, 6, 3, 4, 6, 3, 4, 6, 3, 4, 6, 3, 4, 6, 3, 4, 6, 3, 4, 6, 3, 4, 6, 3]\n",
      "[4, 6, 3, 4, 6, 3, 4, 6, 3, 4, 6, 3, 4, 6, 3, 4, 6, 3, 4, 6, 3, 4, 6, 3, 4, 6, 3, 4, 6, 3, 4]\n"
     ]
    }
   ],
   "source": [
    "#1(a)\n",
    "mylist=list(range(1,21))\n",
    "print(mylist)\n",
    "#(b)\n",
    "mylist2=list(range(20,0,-1))\n",
    "print(mylist2)\n",
    "#(c)\n",
    "ls=list(range(19,0,-1))\n",
    "mylist3=mylist+ls\n",
    "print(mylist3)\n",
    "#(d)\n",
    "mylist4=[4,6,3]*10\n",
    "print(mylist4)\n",
    "#(e)\n",
    "ls1=[4]\n",
    "mylist5=mylist4+ls1\n",
    "print(mylist5)"
   ]
  },
  {
   "cell_type": "code",
   "execution_count": 46,
   "metadata": {},
   "outputs": [
    {
     "name": "stdout",
     "output_type": "stream",
     "text": [
      "-19.884530844146987\n",
      "-22.178753389342127\n",
      "-24.490696732801293\n",
      "-26.77318244299339\n",
      "-28.96923776809358\n",
      "-31.011186439374526\n",
      "-32.81977476033852\n",
      "-34.30336011037369\n",
      "-35.35719361853037\n",
      "-35.862833712307676\n",
      "-35.68773248011913\n",
      "-34.68504225166806\n",
      "-32.693695428321746\n",
      "-29.538816297262983\n",
      "-25.032529229040012\n",
      "-18.97523315495902\n",
      "-11.157417389647556\n",
      "-1.362098518205943\n",
      "10.632038010191764\n",
      "25.04670499827259\n",
      "42.0992010625379\n",
      "61.99663027669396\n",
      "84.92906736250181\n",
      "111.06158604202479\n",
      "140.5250750527861\n",
      "173.4057764085758\n",
      "209.733494247833\n",
      "249.4684405588545\n",
      "292.4867067371199\n",
      "338.5643778585087\n",
      "387.3603402909277\n"
     ]
    }
   ],
   "source": [
    "#2\n",
    "x = 3\n",
    "while x <= 6:\n",
    "    y=math.exp(x)*math.cos(x)\n",
    "    x=x+0.1\n",
    "    print(y)"
   ]
  },
  {
   "cell_type": "code",
   "execution_count": 47,
   "metadata": {
    "scrolled": true
   },
   "outputs": [
    {
     "name": "stdout",
     "output_type": "stream",
     "text": [
      "2.0\n",
      "2.0\n",
      "2.6666666666666665\n",
      "4.0\n",
      "6.4\n",
      "10.666666666666666\n",
      "18.285714285714285\n",
      "32.0\n",
      "56.888888888888886\n",
      "102.4\n",
      "186.1818181818182\n",
      "341.3333333333333\n",
      "630.1538461538462\n",
      "1170.2857142857142\n",
      "2184.5333333333333\n",
      "4096.0\n",
      "7710.117647058823\n",
      "14563.555555555555\n",
      "27594.105263157893\n",
      "52428.8\n",
      "99864.38095238095\n",
      "190650.18181818182\n",
      "364722.0869565217\n",
      "699050.6666666666\n",
      "1342177.28\n"
     ]
    }
   ],
   "source": [
    "#3\n",
    "x = 1\n",
    "while x<= 25:\n",
    "    y=(2**x)/x\n",
    "    x= x+1\n",
    "    print(y)\n"
   ]
  },
  {
   "cell_type": "code",
   "execution_count": 54,
   "metadata": {},
   "outputs": [
    {
     "name": "stdout",
     "output_type": "stream",
     "text": [
      "[-19, -17, -15, -13, -11, -9, -7, -5, -3, -1, 1, 3, 5, 7, 9, 11, 13, 15, 17, 19]\n",
      "[True, False, False, False, False, False, False, False, False, False, False, False, False, False, False, False, False, False, False, False]\n"
     ]
    }
   ],
   "source": [
    "#4\n",
    "#(a)\n",
    "ls4=[]\n",
    "for i in range(20):\n",
    "    j = mylist[i]-mylist[19-i]\n",
    "    ls4.append(j)\n",
    "print(ls4)\n",
    "\n",
    "#(b)\n",
    "ls4b=[]\n",
    "\n",
    "for i in range(20):\n",
    "    if mylist[i]//2 == 0:\n",
    "        j = True\n",
    "        ls4b.append(j)\n",
    "        \n",
    "    else:\n",
    "        j=False\n",
    "        ls4b.append(j)\n",
    "\n",
    "print (ls4b)\n",
    "\n"
   ]
  },
  {
   "cell_type": "code",
   "execution_count": 68,
   "metadata": {},
   "outputs": [
    {
     "name": "stdout",
     "output_type": "stream",
     "text": [
      "The amount of words which length are greater or equal to 8 is: 239\n",
      "The amount of words which length are greater or equal to 4 but smaller than 8 is: 541\n",
      "The amount of words which length are greater or equal to 1 but smaller than 4 is: 220\n",
      "the amount of the uppercase letters is: 129\n",
      "the amount of the lowercase letters is: 5338\n"
     ]
    }
   ],
   "source": [
    "#5\n",
    "#(a)\n",
    "\n",
    "file= open(\"lorem.txt\",\"r\")\n",
    "data = file.read()\n",
    "stri = data.split()\n",
    "\n",
    "a=0\n",
    "b=0\n",
    "c=0\n",
    "\n",
    "for x in stri:\n",
    "    if len(x)>=8:\n",
    "        a = a+1\n",
    "    elif len(x)>=4:\n",
    "        b = b+1\n",
    "    elif len(x)>=1:\n",
    "        c = c+1\n",
    "print( \"The amount of words which length are greater or equal to 8 is:\", a)\n",
    "print( \"The amount of words which length are greater or equal to 4 but smaller than 8 is:\", b)\n",
    "print( \"The amount of words which length are b4 is:\", c)\n",
    "\n",
    "   \n",
    "# question 5(b)\n",
    "\n",
    "f = open(\"lorem.txt\",\"r\")\n",
    "data = f.read()\n",
    "stri = data.split()\n",
    "\n",
    "#print(len(stri)) is 1000\n",
    "\n",
    "up =0\n",
    "lo =0\n",
    "# for i from 0 to 999\n",
    "for i in range(len(stri)):\n",
    "    word_i = stri[i]\n",
    "    for j in word_i:\n",
    "        if j.isupper():\n",
    "            up += 1\n",
    "        if j.islower():\n",
    "            lo += 1\n",
    "\n",
    "print(\"the amount of the uppercase letters is:\", up)\n",
    "print(\"the amount of the lowercase letters is:\", lo)\n"
   ]
  },
  {
   "cell_type": "code",
   "execution_count": null,
   "metadata": {},
   "outputs": [],
   "source": []
  }
 ],
 "metadata": {
  "kernelspec": {
   "display_name": "Python 3",
   "language": "python",
   "name": "python3"
  },
  "language_info": {
   "codemirror_mode": {
    "name": "ipython",
    "version": 3
   },
   "file_extension": ".py",
   "mimetype": "text/x-python",
   "name": "python",
   "nbconvert_exporter": "python",
   "pygments_lexer": "ipython3",
   "version": "3.7.4"
  }
 },
 "nbformat": 4,
 "nbformat_minor": 2
}
